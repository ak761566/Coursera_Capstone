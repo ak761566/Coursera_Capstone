{
    "cells": [
        {
            "cell_type": "markdown",
            "metadata": {
                "collapsed": true
            },
            "source": "## Investigation of Severity of Car Accident in different conditions"
        },
        {
            "cell_type": "markdown",
            "metadata": {},
            "source": "## Introduction"
        },
        {
            "cell_type": "markdown",
            "metadata": {},
            "source": "An algorithm is needed to predict the severity of an accident given the current weather, road and visibility conditions. \nIn all type of condition this model will provide vital information to the professional or amateur drivers, regarding necessary precaution needed while driving in bad weather conditions. It will help driver to plan his journey and avoid unnecessary risk while driving.\n"
        },
        {
            "cell_type": "markdown",
            "metadata": {},
            "source": "### Data Understanding"
        },
        {
            "cell_type": "markdown",
            "metadata": {},
            "source": "Predictor variable will be 'SEVERITYCODE' because it is used measure the severity of an accident from 1 to 2 within the dataset. Attributes used to weigh the severity of an accident are 'WEATHER', 'ROADCOND' and 'LIGHTCOND'.\nSeverity codes are as follows:  \n     1 : Chance or Property Damage  \n     2 : Injury Collision  \n\n"
        },
        {
            "cell_type": "code",
            "execution_count": null,
            "metadata": {},
            "outputs": [],
            "source": ""
        }
    ],
    "metadata": {
        "kernelspec": {
            "display_name": "Python 3.6",
            "language": "python",
            "name": "python3"
        },
        "language_info": {
            "codemirror_mode": {
                "name": "ipython",
                "version": 3
            },
            "file_extension": ".py",
            "mimetype": "text/x-python",
            "name": "python",
            "nbconvert_exporter": "python",
            "pygments_lexer": "ipython3",
            "version": "3.6.9"
        }
    },
    "nbformat": 4,
    "nbformat_minor": 1
}